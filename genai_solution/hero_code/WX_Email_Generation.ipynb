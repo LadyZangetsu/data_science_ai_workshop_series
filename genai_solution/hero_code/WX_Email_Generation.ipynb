{
 "cells": [
  {
   "cell_type": "markdown",
   "metadata": {},
   "source": [
    "# Session X: Email Generation"
   ]
  },
  {
   "cell_type": "markdown",
   "metadata": {},
   "source": [
    "Ideally we would like some email queries that can be answered by our data. This code generated specifically order status emails but can be adapted if other emails are required."
   ]
  },
  {
   "cell_type": "code",
   "execution_count": 1,
   "metadata": {},
   "outputs": [
    {
     "name": "stdout",
     "output_type": "stream",
     "text": [
      "Requirement already satisfied: pandas in c:\\users\\annak\\onedrive\\documents\\github\\data_science_ai_workshop_series\\.conda\\lib\\site-packages (2.2.3)\n",
      "Requirement already satisfied: openai in c:\\users\\annak\\onedrive\\documents\\github\\data_science_ai_workshop_series\\.conda\\lib\\site-packages (1.65.4)\n",
      "Requirement already satisfied: python-dotenv in c:\\users\\annak\\onedrive\\documents\\github\\data_science_ai_workshop_series\\.conda\\lib\\site-packages (1.0.1)\n",
      "Requirement already satisfied: numpy>=1.23.2 in c:\\users\\annak\\onedrive\\documents\\github\\data_science_ai_workshop_series\\.conda\\lib\\site-packages (from pandas) (2.1.3)\n",
      "Requirement already satisfied: python-dateutil>=2.8.2 in c:\\users\\annak\\onedrive\\documents\\github\\data_science_ai_workshop_series\\.conda\\lib\\site-packages (from pandas) (2.9.0.post0)\n",
      "Requirement already satisfied: pytz>=2020.1 in c:\\users\\annak\\onedrive\\documents\\github\\data_science_ai_workshop_series\\.conda\\lib\\site-packages (from pandas) (2025.1)\n",
      "Requirement already satisfied: tzdata>=2022.7 in c:\\users\\annak\\onedrive\\documents\\github\\data_science_ai_workshop_series\\.conda\\lib\\site-packages (from pandas) (2025.1)\n",
      "Requirement already satisfied: anyio<5,>=3.5.0 in c:\\users\\annak\\onedrive\\documents\\github\\data_science_ai_workshop_series\\.conda\\lib\\site-packages (from openai) (4.6.2.post1)\n",
      "Requirement already satisfied: distro<2,>=1.7.0 in c:\\users\\annak\\onedrive\\documents\\github\\data_science_ai_workshop_series\\.conda\\lib\\site-packages (from openai) (1.9.0)\n",
      "Requirement already satisfied: httpx<1,>=0.23.0 in c:\\users\\annak\\onedrive\\documents\\github\\data_science_ai_workshop_series\\.conda\\lib\\site-packages (from openai) (0.27.2)\n",
      "Requirement already satisfied: jiter<1,>=0.4.0 in c:\\users\\annak\\onedrive\\documents\\github\\data_science_ai_workshop_series\\.conda\\lib\\site-packages (from openai) (0.8.2)\n",
      "Requirement already satisfied: pydantic<3,>=1.9.0 in c:\\users\\annak\\onedrive\\documents\\github\\data_science_ai_workshop_series\\.conda\\lib\\site-packages (from openai) (2.10.6)\n",
      "Requirement already satisfied: sniffio in c:\\users\\annak\\onedrive\\documents\\github\\data_science_ai_workshop_series\\.conda\\lib\\site-packages (from openai) (1.3.1)\n",
      "Requirement already satisfied: tqdm>4 in c:\\users\\annak\\onedrive\\documents\\github\\data_science_ai_workshop_series\\.conda\\lib\\site-packages (from openai) (4.67.1)\n",
      "Requirement already satisfied: typing-extensions<5,>=4.11 in c:\\users\\annak\\onedrive\\documents\\github\\data_science_ai_workshop_series\\.conda\\lib\\site-packages (from openai) (4.12.2)\n",
      "Requirement already satisfied: idna>=2.8 in c:\\users\\annak\\onedrive\\documents\\github\\data_science_ai_workshop_series\\.conda\\lib\\site-packages (from anyio<5,>=3.5.0->openai) (3.10)\n",
      "Requirement already satisfied: certifi in c:\\users\\annak\\onedrive\\documents\\github\\data_science_ai_workshop_series\\.conda\\lib\\site-packages (from httpx<1,>=0.23.0->openai) (2024.8.30)\n",
      "Requirement already satisfied: httpcore==1.* in c:\\users\\annak\\onedrive\\documents\\github\\data_science_ai_workshop_series\\.conda\\lib\\site-packages (from httpx<1,>=0.23.0->openai) (1.0.6)\n",
      "Requirement already satisfied: h11<0.15,>=0.13 in c:\\users\\annak\\onedrive\\documents\\github\\data_science_ai_workshop_series\\.conda\\lib\\site-packages (from httpcore==1.*->httpx<1,>=0.23.0->openai) (0.14.0)\n",
      "Requirement already satisfied: annotated-types>=0.6.0 in c:\\users\\annak\\onedrive\\documents\\github\\data_science_ai_workshop_series\\.conda\\lib\\site-packages (from pydantic<3,>=1.9.0->openai) (0.7.0)\n",
      "Requirement already satisfied: pydantic-core==2.27.2 in c:\\users\\annak\\onedrive\\documents\\github\\data_science_ai_workshop_series\\.conda\\lib\\site-packages (from pydantic<3,>=1.9.0->openai) (2.27.2)\n",
      "Requirement already satisfied: six>=1.5 in c:\\users\\annak\\onedrive\\documents\\github\\data_science_ai_workshop_series\\.conda\\lib\\site-packages (from python-dateutil>=2.8.2->pandas) (1.16.0)\n",
      "Requirement already satisfied: colorama in c:\\users\\annak\\onedrive\\documents\\github\\data_science_ai_workshop_series\\.conda\\lib\\site-packages (from tqdm>4->openai) (0.4.6)\n"
     ]
    }
   ],
   "source": [
    "# # Install pandas, openai if you dont already have it\n",
    "!pip install pandas openai python-dotenv"
   ]
  },
  {
   "cell_type": "markdown",
   "metadata": {},
   "source": [
    "## Load Data"
   ]
  },
  {
   "cell_type": "code",
   "execution_count": 2,
   "metadata": {},
   "outputs": [],
   "source": [
    "import pandas as pd\n",
    "import os\n",
    "from dotenv import load_dotenv\n",
    "\n",
    "load_dotenv()\n",
    "\n",
    "OPENAI_API_KEY = os.getenv('OPENAI_API_KEY')\n",
    "\n",
    "data_folder = os.getcwd().split(\"genai_solution\")[0] + \"genai_solution\\\\data\\\\\""
   ]
  },
  {
   "cell_type": "code",
   "execution_count": 3,
   "metadata": {},
   "outputs": [],
   "source": [
    "from os import listdir\n",
    "from os.path import isfile, join\n",
    "onlyfiles = [f for f in listdir(data_folder) if isfile(join(data_folder, f))]"
   ]
  },
  {
   "cell_type": "code",
   "execution_count": 4,
   "metadata": {},
   "outputs": [
    {
     "data": {
      "text/plain": [
       "['.gitignore',\n",
       " 'image.png',\n",
       " 'new_retail_data.csv',\n",
       " 'olist_customers_dataset.csv',\n",
       " 'olist_geolocation_dataset.csv',\n",
       " 'olist_orders_dataset.csv',\n",
       " 'olist_order_items_dataset.csv',\n",
       " 'olist_order_payments_dataset.csv',\n",
       " 'olist_order_reviews_dataset.csv',\n",
       " 'olist_products_dataset.csv',\n",
       " 'olist_sellers_dataset.csv',\n",
       " 'order_status_emails.csv',\n",
       " 'product_category_name_translation.csv',\n",
       " 'README.md']"
      ]
     },
     "execution_count": 4,
     "metadata": {},
     "output_type": "execute_result"
    }
   ],
   "source": [
    "onlyfiles"
   ]
  },
  {
   "cell_type": "code",
   "execution_count": 5,
   "metadata": {},
   "outputs": [
    {
     "data": {
      "text/html": [
       "<div>\n",
       "<style scoped>\n",
       "    .dataframe tbody tr th:only-of-type {\n",
       "        vertical-align: middle;\n",
       "    }\n",
       "\n",
       "    .dataframe tbody tr th {\n",
       "        vertical-align: top;\n",
       "    }\n",
       "\n",
       "    .dataframe thead th {\n",
       "        text-align: right;\n",
       "    }\n",
       "</style>\n",
       "<table border=\"1\" class=\"dataframe\">\n",
       "  <thead>\n",
       "    <tr style=\"text-align: right;\">\n",
       "      <th></th>\n",
       "      <th>order_id</th>\n",
       "      <th>customer_id</th>\n",
       "      <th>order_status</th>\n",
       "      <th>order_purchase_timestamp</th>\n",
       "      <th>order_approved_at</th>\n",
       "      <th>order_delivered_carrier_date</th>\n",
       "      <th>order_delivered_customer_date</th>\n",
       "      <th>order_estimated_delivery_date</th>\n",
       "    </tr>\n",
       "  </thead>\n",
       "  <tbody>\n",
       "    <tr>\n",
       "      <th>0</th>\n",
       "      <td>e481f51cbdc54678b7cc49136f2d6af7</td>\n",
       "      <td>9ef432eb6251297304e76186b10a928d</td>\n",
       "      <td>delivered</td>\n",
       "      <td>2017-10-02 10:56:33</td>\n",
       "      <td>2017-10-02 11:07:15</td>\n",
       "      <td>2017-10-04 19:55:00</td>\n",
       "      <td>2017-10-10 21:25:13</td>\n",
       "      <td>2017-10-18 00:00:00</td>\n",
       "    </tr>\n",
       "    <tr>\n",
       "      <th>1</th>\n",
       "      <td>53cdb2fc8bc7dce0b6741e2150273451</td>\n",
       "      <td>b0830fb4747a6c6d20dea0b8c802d7ef</td>\n",
       "      <td>delivered</td>\n",
       "      <td>2018-07-24 20:41:37</td>\n",
       "      <td>2018-07-26 03:24:27</td>\n",
       "      <td>2018-07-26 14:31:00</td>\n",
       "      <td>2018-08-07 15:27:45</td>\n",
       "      <td>2018-08-13 00:00:00</td>\n",
       "    </tr>\n",
       "    <tr>\n",
       "      <th>2</th>\n",
       "      <td>47770eb9100c2d0c44946d9cf07ec65d</td>\n",
       "      <td>41ce2a54c0b03bf3443c3d931a367089</td>\n",
       "      <td>delivered</td>\n",
       "      <td>2018-08-08 08:38:49</td>\n",
       "      <td>2018-08-08 08:55:23</td>\n",
       "      <td>2018-08-08 13:50:00</td>\n",
       "      <td>2018-08-17 18:06:29</td>\n",
       "      <td>2018-09-04 00:00:00</td>\n",
       "    </tr>\n",
       "    <tr>\n",
       "      <th>3</th>\n",
       "      <td>949d5b44dbf5de918fe9c16f97b45f8a</td>\n",
       "      <td>f88197465ea7920adcdbec7375364d82</td>\n",
       "      <td>delivered</td>\n",
       "      <td>2017-11-18 19:28:06</td>\n",
       "      <td>2017-11-18 19:45:59</td>\n",
       "      <td>2017-11-22 13:39:59</td>\n",
       "      <td>2017-12-02 00:28:42</td>\n",
       "      <td>2017-12-15 00:00:00</td>\n",
       "    </tr>\n",
       "    <tr>\n",
       "      <th>4</th>\n",
       "      <td>ad21c59c0840e6cb83a9ceb5573f8159</td>\n",
       "      <td>8ab97904e6daea8866dbdbc4fb7aad2c</td>\n",
       "      <td>delivered</td>\n",
       "      <td>2018-02-13 21:18:39</td>\n",
       "      <td>2018-02-13 22:20:29</td>\n",
       "      <td>2018-02-14 19:46:34</td>\n",
       "      <td>2018-02-16 18:17:02</td>\n",
       "      <td>2018-02-26 00:00:00</td>\n",
       "    </tr>\n",
       "  </tbody>\n",
       "</table>\n",
       "</div>"
      ],
      "text/plain": [
       "                           order_id                       customer_id  \\\n",
       "0  e481f51cbdc54678b7cc49136f2d6af7  9ef432eb6251297304e76186b10a928d   \n",
       "1  53cdb2fc8bc7dce0b6741e2150273451  b0830fb4747a6c6d20dea0b8c802d7ef   \n",
       "2  47770eb9100c2d0c44946d9cf07ec65d  41ce2a54c0b03bf3443c3d931a367089   \n",
       "3  949d5b44dbf5de918fe9c16f97b45f8a  f88197465ea7920adcdbec7375364d82   \n",
       "4  ad21c59c0840e6cb83a9ceb5573f8159  8ab97904e6daea8866dbdbc4fb7aad2c   \n",
       "\n",
       "  order_status order_purchase_timestamp    order_approved_at  \\\n",
       "0    delivered      2017-10-02 10:56:33  2017-10-02 11:07:15   \n",
       "1    delivered      2018-07-24 20:41:37  2018-07-26 03:24:27   \n",
       "2    delivered      2018-08-08 08:38:49  2018-08-08 08:55:23   \n",
       "3    delivered      2017-11-18 19:28:06  2017-11-18 19:45:59   \n",
       "4    delivered      2018-02-13 21:18:39  2018-02-13 22:20:29   \n",
       "\n",
       "  order_delivered_carrier_date order_delivered_customer_date  \\\n",
       "0          2017-10-04 19:55:00           2017-10-10 21:25:13   \n",
       "1          2018-07-26 14:31:00           2018-08-07 15:27:45   \n",
       "2          2018-08-08 13:50:00           2018-08-17 18:06:29   \n",
       "3          2017-11-22 13:39:59           2017-12-02 00:28:42   \n",
       "4          2018-02-14 19:46:34           2018-02-16 18:17:02   \n",
       "\n",
       "  order_estimated_delivery_date  \n",
       "0           2017-10-18 00:00:00  \n",
       "1           2018-08-13 00:00:00  \n",
       "2           2018-09-04 00:00:00  \n",
       "3           2017-12-15 00:00:00  \n",
       "4           2018-02-26 00:00:00  "
      ]
     },
     "execution_count": 5,
     "metadata": {},
     "output_type": "execute_result"
    }
   ],
   "source": [
    "orders = pd.read_csv(data_folder + 'olist_orders_dataset.csv')  \n",
    "orders.head()"
   ]
  },
  {
   "cell_type": "code",
   "execution_count": 6,
   "metadata": {},
   "outputs": [],
   "source": [
    "order_items = pd.read_csv(data_folder + 'olist_order_items_dataset.csv')  \n",
    "products = pd.read_csv(data_folder + 'olist_products_dataset.csv')  \n",
    "product_name_translation = pd.read_csv(data_folder + 'product_category_name_translation.csv')  \n",
    "\n",
    "order_items = order_items.merge(products, \"left\", on=\"product_id\").merge(product_name_translation,\"left\", on=\"product_category_name\")"
   ]
  },
  {
   "cell_type": "code",
   "execution_count": 7,
   "metadata": {},
   "outputs": [
    {
     "data": {
      "text/html": [
       "<div>\n",
       "<style scoped>\n",
       "    .dataframe tbody tr th:only-of-type {\n",
       "        vertical-align: middle;\n",
       "    }\n",
       "\n",
       "    .dataframe tbody tr th {\n",
       "        vertical-align: top;\n",
       "    }\n",
       "\n",
       "    .dataframe thead th {\n",
       "        text-align: right;\n",
       "    }\n",
       "</style>\n",
       "<table border=\"1\" class=\"dataframe\">\n",
       "  <thead>\n",
       "    <tr style=\"text-align: right;\">\n",
       "      <th></th>\n",
       "      <th>customer_id</th>\n",
       "      <th>customer_unique_id</th>\n",
       "      <th>customer_zip_code_prefix</th>\n",
       "      <th>customer_city</th>\n",
       "      <th>customer_state</th>\n",
       "    </tr>\n",
       "  </thead>\n",
       "  <tbody>\n",
       "    <tr>\n",
       "      <th>0</th>\n",
       "      <td>06b8999e2fba1a1fbc88172c00ba8bc7</td>\n",
       "      <td>861eff4711a542e4b93843c6dd7febb0</td>\n",
       "      <td>14409</td>\n",
       "      <td>franca</td>\n",
       "      <td>SP</td>\n",
       "    </tr>\n",
       "    <tr>\n",
       "      <th>1</th>\n",
       "      <td>18955e83d337fd6b2def6b18a428ac77</td>\n",
       "      <td>290c77bc529b7ac935b93aa66c333dc3</td>\n",
       "      <td>9790</td>\n",
       "      <td>sao bernardo do campo</td>\n",
       "      <td>SP</td>\n",
       "    </tr>\n",
       "    <tr>\n",
       "      <th>2</th>\n",
       "      <td>4e7b3e00288586ebd08712fdd0374a03</td>\n",
       "      <td>060e732b5b29e8181a18229c7b0b2b5e</td>\n",
       "      <td>1151</td>\n",
       "      <td>sao paulo</td>\n",
       "      <td>SP</td>\n",
       "    </tr>\n",
       "    <tr>\n",
       "      <th>3</th>\n",
       "      <td>b2b6027bc5c5109e529d4dc6358b12c3</td>\n",
       "      <td>259dac757896d24d7702b9acbbff3f3c</td>\n",
       "      <td>8775</td>\n",
       "      <td>mogi das cruzes</td>\n",
       "      <td>SP</td>\n",
       "    </tr>\n",
       "    <tr>\n",
       "      <th>4</th>\n",
       "      <td>4f2d8ab171c80ec8364f7c12e35b23ad</td>\n",
       "      <td>345ecd01c38d18a9036ed96c73b8d066</td>\n",
       "      <td>13056</td>\n",
       "      <td>campinas</td>\n",
       "      <td>SP</td>\n",
       "    </tr>\n",
       "  </tbody>\n",
       "</table>\n",
       "</div>"
      ],
      "text/plain": [
       "                        customer_id                customer_unique_id  \\\n",
       "0  06b8999e2fba1a1fbc88172c00ba8bc7  861eff4711a542e4b93843c6dd7febb0   \n",
       "1  18955e83d337fd6b2def6b18a428ac77  290c77bc529b7ac935b93aa66c333dc3   \n",
       "2  4e7b3e00288586ebd08712fdd0374a03  060e732b5b29e8181a18229c7b0b2b5e   \n",
       "3  b2b6027bc5c5109e529d4dc6358b12c3  259dac757896d24d7702b9acbbff3f3c   \n",
       "4  4f2d8ab171c80ec8364f7c12e35b23ad  345ecd01c38d18a9036ed96c73b8d066   \n",
       "\n",
       "   customer_zip_code_prefix          customer_city customer_state  \n",
       "0                     14409                 franca             SP  \n",
       "1                      9790  sao bernardo do campo             SP  \n",
       "2                      1151              sao paulo             SP  \n",
       "3                      8775        mogi das cruzes             SP  \n",
       "4                     13056               campinas             SP  "
      ]
     },
     "execution_count": 7,
     "metadata": {},
     "output_type": "execute_result"
    }
   ],
   "source": [
    "customers = pd.read_csv(data_folder + 'olist_customers_dataset.csv')  \n",
    "customers.head()"
   ]
  },
  {
   "cell_type": "markdown",
   "metadata": {},
   "source": [
    "## Define LLM connection"
   ]
  },
  {
   "cell_type": "code",
   "execution_count": 18,
   "metadata": {},
   "outputs": [],
   "source": [
    "from openai import OpenAI\n",
    "# add your OPENAI_API_KEY here\n",
    "\n",
    "\n",
    "def query_open_ai(prompt, temperature=0.7):\n",
    "    client = OpenAI(api_key=OPENAI_API_KEY)\n",
    "    completions = client.chat.completions.create(\n",
    "        model=\"gpt-4o\",\n",
    "        messages=[\n",
    "            {\n",
    "                \"role\": \"system\",\n",
    "                \"content\": prompt\n",
    "            }\n",
    "        ],\n",
    "        temperature=temperature\n",
    "    )\n",
    " \n",
    "    return completions.choices[0].message.content"
   ]
  },
  {
   "cell_type": "markdown",
   "metadata": {},
   "source": [
    "I used the LLM to generate list of customer contact reasons. Only the first, order status, is used in this example."
   ]
  },
  {
   "cell_type": "code",
   "execution_count": 19,
   "metadata": {},
   "outputs": [],
   "source": [
    "categories = {\"Order-Related Issues\":\n",
    "[\"Order Status – Customers asking about the status of their orders (e.g., 'Where is my order?').\",\n",
    "\"Order Modifications – Requests to change order details (e.g., address change, item swap).\",\n",
    "\"Order Cancellations – Customers wanting to cancel an order before shipping.\"],\n",
    "\"Payment & Billing Issues\":\n",
    "[\"Payment Failures – Issues with processing payments.\",\n",
    "\"Refund Requests – Customers requesting refunds for returned or undelivered items.\",\n",
    "\"Incorrect Charges – Complaints about being overcharged or double charged.\"],\n",
    "\"Shipping & Delivery Issues\":\n",
    "[\"Delayed Delivery – Customers complaining about late shipments.\",\n",
    "\"Lost or Missing Packages – Orders that haven’t arrived or are marked as delivered but not received.\",\n",
    "\"Damaged Items – Complaints about receiving broken or defective products.\"],\n",
    "\"Returns & Exchanges\":\n",
    "[\"Return Requests – Customers asking how to return a product.\",\n",
    "\"Exchange Requests – Requests to swap an item for another.\"],\n",
    "\"Product-Related Queries\":\n",
    "[\"Product Information – Questions about product specifications, availability, or compatibility.\",\n",
    "\"Product Authenticity & Quality – Concerns about whether the product is genuine or meets expectations.\"],\n",
    "\"Technical Issues\":\n",
    "[\"Website or App Issues – Customers reporting glitches, login problems, or checkout failures.\",\n",
    "\"Account Problems – Issues with logging in, password resets, or account security.\"],\n",
    "\"Seller-Related Complaints\":\n",
    "[\"Seller Responsiveness – Customers complaining about unresponsive sellers.\",\n",
    "\"Seller Misrepresentation – Concerns about misleading product descriptions or pricing.\"],\n",
    "\"Promotions & Discounts\":\n",
    "[\"Promo Code Issues – Complaints about discount codes not working.\",\n",
    "\"Price Adjustments – Requests for partial refunds due to price drops after purchase.\"],\n",
    "\"General Inquiries & Feedback\":\n",
    "[\"General Questions – Miscellaneous questions about policies, store operations, etc.\",\n",
    "\"Customer Feedback & Complaints – Compliments, complaints, or improvement suggestions.\"]}"
   ]
  },
  {
   "cell_type": "code",
   "execution_count": 20,
   "metadata": {},
   "outputs": [],
   "source": [
    "customers = customers.sample(frac=1).reset_index(drop=True)"
   ]
  },
  {
   "cell_type": "markdown",
   "metadata": {},
   "source": [
    "## Order status Emails"
   ]
  },
  {
   "cell_type": "markdown",
   "metadata": {},
   "source": [
    "I used the LLM to generate a list of names and email, to ensure a different name and email address across the emails."
   ]
  },
  {
   "cell_type": "code",
   "execution_count": 11,
   "metadata": {},
   "outputs": [],
   "source": [
    "customer_name_email = [\n",
    "{ \"name\": \"John Smith\", \"email\": \"john.smith@gmail.com\" },\n",
    "{ \"name\": \"Jane Doe\", \"email\": \"jane.doe@yahoo.com\" },\n",
    "{ \"name\": \"Alice Johnson\", \"email\": \"alice.johnson@outlook.com\" },\n",
    "{ \"name\": \"Robert Brown\", \"email\": \"robert.brown@gmail.com\" },\n",
    "{ \"name\": \"Emily Davis\", \"email\": \"emily.davis@hotmail.com\" },\n",
    "{ \"name\": \"Michael Wilson\", \"email\": \"michael.wilson@yahoo.com\" },\n",
    "{ \"name\": \"Sarah Martinez\", \"email\": \"sarah.martinez@gmail.com\" },\n",
    "{ \"name\": \"David Anderson\", \"email\": \"david.anderson@icloud.com\" },\n",
    "{ \"name\": \"Emma Thomas\", \"email\": \"emma.thomas@aol.com\" },\n",
    "{ \"name\": \"James White\", \"email\": \"james.white@outlook.com\" },\n",
    "{ \"name\": \"Olivia Harris\", \"email\": \"olivia.harris@gmail.com\" },\n",
    "{ \"name\": \"William Martin\", \"email\": \"william.martin@yahoo.com\" },\n",
    "{ \"name\": \"Sophia Thompson\", \"email\": \"sophia.thompson@hotmail.com\" },\n",
    "{ \"name\": \"Benjamin Garcia\", \"email\": \"benjamin.garcia@icloud.com\" },\n",
    "{ \"name\": \"Charlotte Martinez\", \"email\": \"charlotte.martinez@gmail.com\" },\n",
    "{ \"name\": \"Daniel Robinson\", \"email\": \"daniel.robinson@outlook.com\" },\n",
    "{ \"name\": \"Mia Clark\", \"email\": \"mia.clark@yahoo.com\" },\n",
    "{ \"name\": \"Lucas Rodriguez\", \"email\": \"lucas.rodriguez@gmail.com\" },\n",
    "{ \"name\": \"Amelia Lewis\", \"email\": \"amelia.lewis@icloud.com\" },\n",
    "{ \"name\": \"Henry Walker\", \"email\": \"henry.walker@outlook.com\" },\n",
    "{ \"name\": \"Evelyn Hall\", \"email\": \"evelyn.hall@gmail.com\" },\n",
    "{ \"name\": \"Alexander Allen\", \"email\": \"alexander.allen@hotmail.com\" },\n",
    "{ \"name\": \"Harper Young\", \"email\": \"harper.young@yahoo.com\" },\n",
    "{ \"name\": \"Elijah King\", \"email\": \"elijah.king@gmail.com\" },\n",
    "{ \"name\": \"Isabella Wright\", \"email\": \"isabella.wright@icloud.com\" },\n",
    "{ \"name\": \"Sebastian Scott\", \"email\": \"sebastian.scott@aol.com\" },\n",
    "{ \"name\": \"Avery Green\", \"email\": \"avery.green@yahoo.com\" },\n",
    "{ \"name\": \"Jack Adams\", \"email\": \"jack.adams@gmail.com\" },\n",
    "{ \"name\": \"Lily Nelson\", \"email\": \"lily.nelson@outlook.com\" },\n",
    "{ \"name\": \"Matthew Baker\", \"email\": \"matthew.baker@hotmail.com\" },\n",
    "{ \"name\": \"Scarlett Gonzalez\", \"email\": \"scarlett.gonzalez@yahoo.com\" },\n",
    "{ \"name\": \"Joseph Carter\", \"email\": \"joseph.carter@gmail.com\" },\n",
    "{ \"name\": \"Chloe Perez\", \"email\": \"chloe.perez@icloud.com\" },\n",
    "{ \"name\": \"Samuel Turner\", \"email\": \"samuel.turner@hotmail.com\" },\n",
    "{ \"name\": \"Zoey Collins\", \"email\": \"zoey.collins@yahoo.com\" },\n",
    "{ \"name\": \"David Edwards\", \"email\": \"david.edwards@gmail.com\" },\n",
    "{ \"name\": \"Ella Stewart\", \"email\": \"ella.stewart@aol.com\" },\n",
    "{ \"name\": \"Gabriel Flores\", \"email\": \"gabriel.flores@outlook.com\" },\n",
    "{ \"name\": \"Aria Morris\", \"email\": \"aria.morris@gmail.com\" },\n",
    "{ \"name\": \"Nathaniel Rivera\", \"email\": \"nathaniel.rivera@icloud.com\" },\n",
    "{ \"name\": \"Penelope Cooper\", \"email\": \"penelope.cooper@hotmail.com\" },\n",
    "{ \"name\": \"Andrew Reed\", \"email\": \"andrew.reed@yahoo.com\" },\n",
    "{ \"name\": \"Hannah Bailey\", \"email\": \"hannah.bailey@gmail.com\" },\n",
    "{ \"name\": \"Christopher Bell\", \"email\": \"christopher.bell@outlook.com\" },\n",
    "{ \"name\": \"Madison Murphy\", \"email\": \"madison.murphy@hotmail.com\" },\n",
    "{ \"name\": \"Dylan Howard\", \"email\": \"dylan.howard@gmail.com\" },\n",
    "{ \"name\": \"Layla Cox\", \"email\": \"layla.cox@yahoo.com\" },\n",
    "{ \"name\": \"Ethan Ward\", \"email\": \"ethan.ward@icloud.com\" },\n",
    "{ \"name\": \"Grace Brooks\", \"email\": \"grace.brooks@hotmail.com\" },\n",
    "{ \"name\": \"Jackson Torres\", \"email\": \"jackson.torres@gmail.com\" },\n",
    "{ \"name\": \"Victoria Sanders\", \"email\": \"victoria.sanders@outlook.com\" }\n",
    "]\n"
   ]
  },
  {
   "cell_type": "code",
   "execution_count": null,
   "metadata": {},
   "outputs": [
    {
     "name": "stdout",
     "output_type": "stream",
     "text": [
      "3fe7926825b25dda1761bd01bbb4d44c\n"
     ]
    }
   ],
   "source": [
    "all_emails = pd.DataFrame(columns=[\"customer_id\", \"order_id\", \"products\", \"email\", \"customer_name\", \"email_address\"])\n",
    "\n",
    "for i in range(51):\n",
    "    customer_id = customers[\"customer_id\"].values[i]\n",
    "    print(customer_id)\n",
    "    customer_order_info = orders[orders[\"customer_id\"] == customer_id][['order_id', 'customer_id', 'order_purchase_timestamp',\n",
    "       'order_approved_at','order_estimated_delivery_date']]\n",
    "    order_id = customer_order_info[\"order_id\"].values.tolist()[0]\n",
    "    order_time = customer_order_info[\"order_purchase_timestamp\"].values.tolist()[0]\n",
    "    customer_order_items = order_items[order_items[\"order_id\"] == order_id]\n",
    "   #  customer_payment_info = order_payment[order_payment[\"order_id\"] == order_id]\n",
    "    products = customer_order_items[\"product_category_name_english\"].values.tolist()\n",
    "\n",
    "\n",
    "    prompt = \"\"\" Write a realistic email to customer support from \"\"\" + customer_name_email[i][\"name\"] + \"\"\" (\"\"\" + customer_name_email[i][\"email\"] +\"\"\") asking about the status of their order.\n",
    "                 Which was ordered at  \"\"\" + order_time + \"\"\". Do not include a phone number.\n",
    "                 Order number:  \"\"\" + order_id\n",
    "    \n",
    "    email = query_open_ai(prompt)\n",
    "\n",
    "    new_email = pd.DataFrame([[customer_id, order_id, products, email, customer_name_email[i][\"name\"], customer_name_email[i][\"email\"]]], \n",
    "                             columns=[\"customer_id\", \"order_id\", \"products\", \"email\", \"customer_name\", \"email_address\"])\n",
    "    all_emails = pd.concat([all_emails, new_email])"
   ]
  },
  {
   "cell_type": "code",
   "execution_count": 13,
   "metadata": {},
   "outputs": [
    {
     "name": "stdout",
     "output_type": "stream",
     "text": [
      "Subject: Inquiry About Order Status - Order #f386ab31f2ffcafd65304e199111d3c2\n",
      "\n",
      "Dear Customer Support,\n",
      "\n",
      "I hope this message finds you well. I am writing to inquire about the status of my recent order placed on March 22, 2017, with the order number f386ab31f2ffcafd65304e199111d3c2. \n",
      "\n",
      "It has been a while since I placed the order, and I have not yet received any updates regarding its shipment or delivery. I would appreciate it if you could provide me with the current status of the order and an estimated delivery date.\n",
      "\n",
      "Please let me know if you need any further information from my end to assist with this inquiry.\n",
      "\n",
      "Thank you for your attention to this matter. I look forward to your prompt response.\n",
      "\n",
      "Best regards,\n",
      "\n",
      "John Smith\n",
      "john.smith@gmail.com\n",
      "\n"
     ]
    }
   ],
   "source": [
    "for email in all_emails[\"email\"].reset_index(drop=True):\n",
    "    print(email)\n",
    "    print(\"\")"
   ]
  },
  {
   "cell_type": "code",
   "execution_count": 14,
   "metadata": {},
   "outputs": [],
   "source": [
    "# all_emails[\"category\"] = \"Order Status\"\n",
    "\n",
    "# all_emails[['customer_id', 'order_id', 'email', 'customer_name','email_address', 'category']].to_csv(data_folder + 'order_status_emails.csv')"
   ]
  },
  {
   "cell_type": "code",
   "execution_count": null,
   "metadata": {},
   "outputs": [],
   "source": [
    "timestamps =[]\n",
    "for index, row in all_emails.iterrows():\n",
    "    customer_id = row[\"customer_id\"]\n",
    "    order_id = row[\"order_id\"]\n",
    "    email = row[\"email\"]\n",
    "    order_info = orders[(orders[\"customer_id\"].astype(str) == str(customer_id)) & (orders[\"order_id\"].astype(str) == str(order_id))]\n",
    "\n",
    "    prompt = \"\"\" Determine when this email might have been sent. Based on the on this email: \"\"\" + email + \"\"\"\n",
    "\n",
    "                 And this order information  \"\"\" + order_info.to_json() + \"\"\". When might this email have been sent.  \n",
    "                 Return only the timestamp in the format 'year-month-date hour:minute:second'. \n",
    "                 Do not return any additional information. Only return the timestamp.\"\"\" \n",
    "    \n",
    "    time = query_open_ai(prompt)\n",
    "    timestamps += [time]"
   ]
  },
  {
   "cell_type": "code",
   "execution_count": null,
   "metadata": {},
   "outputs": [],
   "source": [
    "all_emails[\"email_recieved\"] = pd.DataFrame(timestamps)"
   ]
  },
  {
   "cell_type": "code",
   "execution_count": null,
   "metadata": {},
   "outputs": [],
   "source": [
    "# all_emails[[ 'customer_id', 'order_id', 'email', 'customer_name',\n",
    "#        'email_address', 'category', 'email_recieved']].to_csv(data_folder + 'order_status_emails.csv')"
   ]
  }
 ],
 "metadata": {
  "kernelspec": {
   "display_name": "Python 3",
   "language": "python",
   "name": "python3"
  },
  "language_info": {
   "codemirror_mode": {
    "name": "ipython",
    "version": 3
   },
   "file_extension": ".py",
   "mimetype": "text/x-python",
   "name": "python",
   "nbconvert_exporter": "python",
   "pygments_lexer": "ipython3",
   "version": "3.11.10"
  }
 },
 "nbformat": 4,
 "nbformat_minor": 2
}
