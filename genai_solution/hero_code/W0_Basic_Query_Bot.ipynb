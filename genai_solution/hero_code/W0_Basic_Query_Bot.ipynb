{
 "cells": [
  {
   "cell_type": "markdown",
   "metadata": {},
   "source": [
    "### Simple App to Query a Dataset"
   ]
  },
  {
   "cell_type": "markdown",
   "metadata": {},
   "source": [
    "Some Notes: \n",
    "\n",
    "* Some packages will need to be installed the first time this notebook is ran `pip install gradio boto3 langchain_community` \n",
    "\n",
    "* Setting up AWS: https://medium.com/genai-io/aws-bedrock-quick-setup-with-boto3-94ba0d0088ca\n",
    "\n",
    "* Getting LLM response: https://docs.aws.amazon.com/bedrock/latest/userguide/bedrock-runtime_example_bedrock-runtime_Converse_AnthropicClaude_section.html\n",
    "\n",
    "* Data\n",
    "    * For this code to work you will need to have the data downloaded \n",
    "    * Link: https://www.kaggle.com/datasets/olistbr/brazilian-ecommerce?select=olist_orders_dataset.csv\n",
    "\n",
    "\n",
    "\n",
    "* Gradio is used to create a very simple interface \n",
    "    * Docs: https://www.gradio.app\n",
    "    * Streamlit is another good option: https://streamlit.io\n",
    "\n",
    "\n",
    "Any questions reach out!"
   ]
  },
  {
   "cell_type": "code",
   "execution_count": null,
   "metadata": {},
   "outputs": [],
   "source": [
    "!pip install gradio boto3 langchain_community"
   ]
  },
  {
   "cell_type": "code",
   "execution_count": null,
   "metadata": {},
   "outputs": [],
   "source": [
    "import os\n",
    "import gradio as gr\n",
    "import pandas as pd\n",
    "from langchain_community.document_loaders import DataFrameLoader\n",
    "import json\n",
    "import boto3\n",
    "from botocore.exceptions import ClientError"
   ]
  },
  {
   "cell_type": "code",
   "execution_count": null,
   "metadata": {},
   "outputs": [],
   "source": [
    "import os\n",
    "\n",
    "DATA_FOLDER = os.getcwd().split(\"genai_solution\")[0] + \"genai_solution\\\\data\\\\\"\n",
    "\n",
    "file_list = (\n",
    "    \"olist_customers_dataset.csv\",\n",
    "    \"olist_geolocation_dataset.csv\",\n",
    "    \"olist_order_items_dataset.csv\",\n",
    "    \"olist_order_payments_dataset.csv\",\n",
    "    \"olist_order_reviews_dataset.csv\",\n",
    "    \"olist_orders_dataset.csv\",\n",
    "    \"olist_products_dataset.csv\",\n",
    "    \"olist_sellers_dataset.csv\",\n",
    "    \"product_category_name_translation.csv\",\n",
    ")\n",
    "\n",
    "file_list = [\"product_category_name_translation.csv\"]"
   ]
  },
  {
   "cell_type": "code",
   "execution_count": null,
   "metadata": {},
   "outputs": [],
   "source": [
    "# Defining a function to get a llm response from aws\n",
    "# This code is taken from above links\n",
    "\n",
    "\n",
    "def get_output_aws(prompt):\n",
    "    client = boto3.client(\"bedrock-runtime\", region_name=\"eu-west-1\")\n",
    "\n",
    "    model_id = \"eu.anthropic.claude-3-5-sonnet-20240620-v1:0\"\n",
    "\n",
    "    native_request = {\n",
    "        \"anthropic_version\": \"bedrock-2023-05-31\",\n",
    "        \"max_tokens\": 512,\n",
    "        \"temperature\": 0.5,\n",
    "        \"messages\": [\n",
    "            {\n",
    "                \"role\": \"user\",\n",
    "                \"content\": [{\"type\": \"text\", \"text\": prompt}],\n",
    "            }\n",
    "        ],\n",
    "    }\n",
    "\n",
    "    request = json.dumps(native_request)\n",
    "\n",
    "    try:\n",
    "        response = client.invoke_model(modelId=model_id, body=request)\n",
    "\n",
    "    except (ClientError, Exception) as e:\n",
    "        print(f\"ERROR: Can't invoke '{model_id}'. Reason: {e}\")\n",
    "        exit(1)\n",
    "\n",
    "    # Decode the response body.\n",
    "    model_response = json.loads(response[\"body\"].read())\n",
    "\n",
    "    # Extract and print the response text.\n",
    "    return model_response[\"content\"][0][\"text\"]"
   ]
  },
  {
   "cell_type": "code",
   "execution_count": null,
   "metadata": {},
   "outputs": [],
   "source": [
    "# Gradio works by defining a function that you wish to run in the interface\n",
    "# Our file and prompt are inputs and it returns the llm response\n",
    "\n",
    "\n",
    "def llm_query_df(file_path, prompt):\n",
    "    df = pd.read_csv(DATA_FOLDER + file_path)\n",
    "    data_loaded = DataFrameLoader(\n",
    "        df, page_content_column=\"product_category_name\"\n",
    "    ).load()\n",
    "\n",
    "    prompt = prompt + str(data_loaded)\n",
    "    return get_output_aws(prompt)"
   ]
  },
  {
   "cell_type": "code",
   "execution_count": null,
   "metadata": {},
   "outputs": [],
   "source": [
    "# Create the Gradio interface\n",
    "iface = gr.Interface(\n",
    "    fn=llm_query_df,  # Function to be called\n",
    "    inputs=[\n",
    "        gr.Dropdown(choices=file_list, label=\"Select a file to query\"),  # File dropdown\n",
    "        gr.Textbox(\n",
    "            lines=2, placeholder=\"Enter your prompt here...\", label=\"\"\n",
    "        ),  # Text input\n",
    "    ],\n",
    "    outputs=[gr.Textbox(label=\"Summary\")],  # Output type\n",
    "    title=\"Query your Data\",  # Title of the app\n",
    "    description=\"This is a description\",  # Description of the app\n",
    ")\n",
    "\n",
    "iface.launch()"
   ]
  },
  {
   "cell_type": "code",
   "execution_count": null,
   "metadata": {},
   "outputs": [],
   "source": []
  }
 ],
 "metadata": {
  "kernelspec": {
   "display_name": "Python 3",
   "language": "python",
   "name": "python3"
  },
  "language_info": {
   "codemirror_mode": {
    "name": "ipython",
    "version": 3
   },
   "file_extension": ".py",
   "mimetype": "text/x-python",
   "name": "python",
   "nbconvert_exporter": "python",
   "pygments_lexer": "ipython3",
   "version": "3.11.10"
  }
 },
 "nbformat": 4,
 "nbformat_minor": 2
}
